{
 "cells": [
  {
   "cell_type": "code",
   "execution_count": 1,
   "id": "9d8002c7",
   "metadata": {},
   "outputs": [],
   "source": [
    "import numpy as np\n",
    "import matplotlib.pyplot as plt\n",
    "import os\n",
    "import cv2\n",
    "import random\n",
    "import numpy as np\n",
    "import tensorflow as tf\n",
    "import pickle\n",
    "from tensorflow.keras.models import Sequential\n",
    "from tensorflow.keras.layers import Dense, Dropout, Activation, Flatten, Conv2D, MaxPooling2D"
   ]
  },
  {
   "cell_type": "code",
   "execution_count": 2,
   "id": "db5e85f8",
   "metadata": {},
   "outputs": [],
   "source": [
    "# DATADIR=\"D:/Desktop/My_ML Project/Datasets/Train/Train_Set\"\n",
    "# CATEGORIES=[\"Angry\",\"Contempt\",\"Disgused\",\"Afraid\",\"Happy\",\"Neutral\",\"Sad\",\"Surprised\"]\n",
    "# these two lines below are just for testing, uncomment the lines above for the actual training dataset\n",
    "DATADIR=\"D:/Desktop/My_ML Project/Datasets/Evaluate\"\n",
    "CATEGORIES=[\"Happy\",\"Angry\",\"Disgused\",\"Sad\",\"Neutral\",\"Surprised\"]\n",
    "\n",
    "\n",
    "for category in CATEGORIES:\n",
    "    path=os.path.join(DATADIR,category) # path to cats or dogs category\n",
    "    for img in os.listdir(path):\n",
    "        img_array=cv2.imread(os.path.join(path,img),cv2.IMREAD_GRAYSCALE) # IMREAD_GRAYSCALE to read images without colors\n",
    "        #plt.imshow(img_array, cmap=\"gray\") # these two lines are just to show the images\n",
    "        #plt.show()"
   ]
  },
  {
   "cell_type": "code",
   "execution_count": 3,
   "id": "2d00c63d",
   "metadata": {},
   "outputs": [
    {
     "data": {
      "image/png": "[encoded data removed]",
      "text/plain": [
       "<Figure size 432x288 with 1 Axes>"
      ]
     },
     "metadata": {
      "needs_background": "light"
     },
     "output_type": "display_data"
    }
   ],
   "source": [
    "# nomalize data\n",
    "#No need to execute this tab\n",
    "IMG_SIZE=48 # Specify the size of your image\n",
    "new_array=cv2.resize(img_array,(IMG_SIZE,IMG_SIZE)) # Resize your image (size,size)\n",
    "plt.imshow(new_array, cmap='gray')\n",
    "plt.show()"
   ]
  },
  {
   "cell_type": "code",
   "execution_count": 5,
   "id": "13f68f20",
   "metadata": {},
   "outputs": [],
   "source": [
    "# Creating training data\n",
    "training_data=[]\n",
    "IMG_SIZE=48\n",
    "def create_training_data():\n",
    "    for category in CATEGORIES:\n",
    "        path=os.path.join(DATADIR,category) # path to cats or dogs category\n",
    "        class_num = CATEGORIES.index(category) # donner à chaque categorie un nombre selon son index dans le dossier\n",
    "        for img in os.listdir(path):\n",
    "            try:\n",
    "                img_array=cv2.imread(os.path.join(path,img),cv2.IMREAD_GRAYSCALE) # IMREAD_GRAYSCALE to read images without colors\n",
    "                new_array=cv2.resize(img_array,(IMG_SIZE,IMG_SIZE)) # Resize your image (size,size)\n",
    "                training_data.append([new_array,class_num]) # add the picture to the training data list along with its index \n",
    "                #plt.imshow(img_array, cmap=\"gray\") # these two kines are just to show the images\n",
    "                #plt.show()\n",
    "            except Exception as e:\n",
    "                pass\n",
    "create_training_data() # call the fonction to start training"
   ]
  },
  {
   "cell_type": "code",
   "execution_count": 6,
   "id": "0ab89f2e",
   "metadata": {},
   "outputs": [
    {
     "name": "stdout",
     "output_type": "stream",
     "text": [
      "3586\n"
     ]
    }
   ],
   "source": [
    "print(len(training_data)) # how many elements are there in the dataset"
   ]
  },
  {
   "cell_type": "code",
   "execution_count": 7,
   "id": "5fba2ff2",
   "metadata": {},
   "outputs": [],
   "source": [
    "random.shuffle(training_data) # shuffle the data"
   ]
  },
  {
   "cell_type": "code",
   "execution_count": 11,
   "id": "2c8416ab",
   "metadata": {},
   "outputs": [],
   "source": [
    "X=[] # FEATURES\n",
    "y=[] # labels\n",
    "for features, label in training_data:\n",
    "    X.append(features)\n",
    "    y.append(label)\n",
    "y = np.array(y) #transform the features into numpy arrays\n",
    "X = np.array(X).reshape(-1, IMG_SIZE, IMG_SIZE, 1) # reshape the features\n",
    "                                                    #the 1 refers to gray, put 3 for colors"
   ]
  },
  {
   "cell_type": "code",
   "execution_count": 12,
   "id": "4163324a",
   "metadata": {},
   "outputs": [],
   "source": [
    "# Save your training_dataset\n",
    "\n",
    "import pickle\n",
    "\n",
    "pickle_out = open(\"X.pickle\",\"wb\")\n",
    "pickle.dump(X, pickle_out)\n",
    "pickle_out.close()\n",
    "\n",
    "pickle_out = open(\"y.pickle\",\"wb\")\n",
    "pickle.dump(y, pickle_out)\n",
    "pickle_out.close()"
   ]
  },
  {
   "cell_type": "code",
   "execution_count": 14,
   "id": "564641fa",
   "metadata": {},
   "outputs": [
    {
     "name": "stdout",
     "output_type": "stream",
     "text": [
      "Epoch 1/3\n",
      "90/90 [==============================] - 132s 1s/step - loss: -1065228.3750 - accuracy: 0.1328 - val_loss: -8174932.0000 - val_accuracy: 0.1365\n",
      "Epoch 2/3\n",
      "90/90 [==============================] - 131s 1s/step - loss: -58505472.0000 - accuracy: 0.1287 - val_loss: -203636992.0000 - val_accuracy: 0.1365\n",
      "Epoch 3/3\n",
      "90/90 [==============================] - 131s 1s/step - loss: -520701024.0000 - accuracy: 0.1287 - val_loss: -1307416960.0000 - val_accuracy: 0.1365\n"
     ]
    },
    {
     "data": {
      "text/plain": [
       "<keras.callbacks.History at 0x1f4117ffaf0>"
      ]
     },
     "execution_count": 14,
     "metadata": {},
     "output_type": "execute_result"
    }
   ],
   "source": [
    "# train your model\n",
    "        # open your training dataset\n",
    "pickle_in = open(\"X.pickle\",\"rb\")\n",
    "X = pickle.load(pickle_in)\n",
    "\n",
    "pickle_in = open(\"y.pickle\",\"rb\")\n",
    "y = pickle.load(pickle_in)\n",
    "\n",
    "        # normalize data by scalling it\n",
    "X=X/255.0        #we can aslo use keras.normalize()\n",
    "        # strat building our model\n",
    "model=Sequential()\n",
    "\n",
    "# first layer\n",
    "model.add(Conv2D(64,(3,3), input_shape=X.shape[1:])) # first convenential layer conv2D(64,Window,)\n",
    "                                                      # the first parametre can be modified, search for it\n",
    "model.add(Activation(\"relu\")) # an activation layer with the function \"relu\"\n",
    "model.add(MaxPooling2D(pool_size=(2,2)))  # MaxPooling2D layer\n",
    "\n",
    "# second layer        \n",
    "model.add(Conv2D(64,(3,3))) # second convenential layer conv2D(64,Window,)\n",
    "model.add(32,Activation(\"relu\"))\n",
    "model.add(MaxPooling2D(pool_size=(2,2))) \n",
    "          \n",
    "# A Dense layer      \n",
    "model.add(Flatten()) # flatten the data before the dense layer\n",
    "model.add(Dense(64))\n",
    "model.add(Activation(\"relu\"))\n",
    "          \n",
    "model.add(Dense(1))\n",
    "model.add(Activation('sigmoid')) # an activation layer with the function 'Sigmoid'\n",
    "          \n",
    "# Compile the model\n",
    "model.compile(loss=\"binary_crossentropy\", optimizer=\"adam\", metrics=['accuracy']) # for the loss we used this function because we have two categories only\n",
    "          # if you have many categories, use 'categorical_crossentropy' !!!!!!!!!!!\n",
    "model.fit(X, y, batch_size=32, epochs=3, validation_split=0.2, shuffle=True) # fit your model with X and y, for the batch_size shoose it according to the size of your data\n",
    "                              #epochs: how many time our model will be trained with the same data, increase it for more accuracy, validation_split=0.1 to split the data into a training set of 90% and a testing set of 10%\n",
    "                            #The validation_split argument should be a float between 0 and 1, representing the fraction of the training data to use as validation data. For example, if you pass 0.2 to validation_split, 20% of the training data will be used as validation data and the remaining 80% will be used as training data."
   ]
  },
  {
   "cell_type": "code",
   "execution_count": 18,
   "id": "ab4ffc48",
   "metadata": {},
   "outputs": [
    {
     "name": "stdout",
     "output_type": "stream",
     "text": [
      "the accuracy is 12.87%\n"
     ]
    }
   ],
   "source": [
    "print(\"the accuracy is 12.87%\")"
   ]
  },
  {
   "cell_type": "code",
   "execution_count": null,
   "id": "f1e0cf77",
   "metadata": {},
   "outputs": [],
   "source": []
  },
  {
   "cell_type": "code",
   "execution_count": null,
   "id": "38f23077",
   "metadata": {},
   "outputs": [],
   "source": []
  }
 ],
 "metadata": {
  "kernelspec": {
   "display_name": "Python 3 (ipykernel)",
   "language": "python",
   "name": "python3"
  },
  "language_info": {
   "codemirror_mode": {
    "name": "ipython",
    "version": 3
   },
   "file_extension": ".py",
   "mimetype": "text/x-python",
   "name": "python",
   "nbconvert_exporter": "python",
   "pygments_lexer": "ipython3",
   "version": "3.9.12"
  }
 },
 "nbformat": 4,
 "nbformat_minor": 5
}
